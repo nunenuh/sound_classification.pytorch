{
 "cells": [
  {
   "cell_type": "code",
   "execution_count": 1,
   "metadata": {},
   "outputs": [],
   "source": [
    "import os\n",
    "import pathlib\n",
    "import torch\n",
    "import pandas as pd\n",
    "import numpy as np\n",
    "from torch.utils import data\n",
    "import librosa\n",
    "import matplotlib.pyplot as plt\n",
    "import cv2\n",
    "import PIL\n",
    "import PIL.Image as Image\n",
    "import torchvision.transforms as transforms"
   ]
  },
  {
   "cell_type": "code",
   "execution_count": 40,
   "metadata": {},
   "outputs": [],
   "source": [
    "class UrbanSound8kDataset(data.dataset.Dataset):\n",
    "    def __init__(self, root, csv_file, mode='train', transform=None):\n",
    "        super(UrbanSound8kDataset, self).__init__()\n",
    "        self.root = root\n",
    "        self.csv_file = csv_file\n",
    "        self.mode = mode\n",
    "        self.df = pd.read_csv(self.csv_file)\n",
    "        self.do_train_valid_split()\n",
    "        self.transform = transform\n",
    "        \n",
    "    def do_train_valid_split(self):\n",
    "        self.train_df = self.df[np.logical_and(self.df['fold'] >= 1, self.df['fold'] <= 8)]\n",
    "        self.train_df = self.train_df.reset_index(drop=True)\n",
    "        \n",
    "        self.valid_df = self.df[np.logical_and(self.df['fold'] >= 9, self.df['fold'] <= 10)]\n",
    "        self.valid_df = self.valid_df.reset_index(drop=True)\n",
    "        \n",
    "        if self.mode is 'train':\n",
    "            self.df = self.train_df\n",
    "        else:\n",
    "            self.df = self.valid_df\n",
    "        \n",
    "\n",
    "    def _classes(self):\n",
    "        classes = self.df['class'].unique()\n",
    "        classes.sort()\n",
    "        classes = list(classes)\n",
    "        return classes\n",
    "    \n",
    "    def class_to_idx(self):\n",
    "        classes = self._classes()\n",
    "        cti = {}\n",
    "        for idx, c in enumerate(classes):\n",
    "            cti.update({c: idx})\n",
    "        return cti\n",
    "    \n",
    "    def idx_to_class(self):\n",
    "        classes = self._classes()\n",
    "        cti = {}\n",
    "        for idx, c in enumerate(classes):\n",
    "            cti.update({idx: c})\n",
    "        return cti\n",
    "    \n",
    "    def __len__(self):\n",
    "        return len(df)\n",
    "    \n",
    "    def build_path(self, idx):\n",
    "        fold = f\"fold{str(self.df['fold'][idx])}\"\n",
    "        filename = self.df['slice_file_name'][idx]\n",
    "        path = os.path.join(self.root, fold, filename)\n",
    "        return path\n",
    "    \n",
    "    def _image_scale(self, x, xmin=0, xmax=255):\n",
    "        omin, omax = x.min(), x.max()\n",
    "        opercent = (x - omin) / (omax - omin)\n",
    "        n_x = ((xmax - xmin) * opercent) + xmin\n",
    "        return np.uint8(n_x)\n",
    "    \n",
    "    def _load_audio(self, path):\n",
    "        y, sr = librosa.load(path)\n",
    "        audio_mfcc = librosa.feature.mfcc(y=y, sr=sr, n_mfcc=40)\n",
    "        audio_spec_db = librosa.power_to_db(audio_mfcc, ref=np.max)\n",
    "        image = self._image_scale(audio_spec_db, xmin=-1, xmax=1)\n",
    "        return image\n",
    "    \n",
    "    def __getitem__(self, idx):\n",
    "        path = self.build_path(idx)\n",
    "        image = self._load_audio(path)\n",
    "        classes = int(self.df['classID'][idx])\n",
    "        \n",
    "        if self.transform:\n",
    "            image = self.transform(image)\n",
    "            \n",
    "        return image, classes\n",
    "    "
   ]
  },
  {
   "cell_type": "code",
   "execution_count": 41,
   "metadata": {},
   "outputs": [],
   "source": [
    "class NumpyToPIL(object):\n",
    "    def __init__(self, to_rgb=True):\n",
    "        super(NumpyToPIL, self).__init__()\n",
    "        self.to_rgb = to_rgb\n",
    "            \n",
    "    def __call__(self, img):\n",
    "        image = Image.fromarray(np.uint8(img))\n",
    "        if self.to_rgb:\n",
    "            image = image.convert(\"RGB\")\n",
    "        return image"
   ]
  },
  {
   "cell_type": "code",
   "execution_count": 42,
   "metadata": {},
   "outputs": [],
   "source": [
    "normalize = transforms.Normalize(mean=[0.485, 0.456, 0.406],\n",
    "                                     std=[0.229, 0.224, 0.225])\n",
    "\n",
    "train_tmft = transforms.Compose([\n",
    "    NumpyToPIL(),\n",
    "    transforms.RandomResizedCrop(224),\n",
    "    transforms.Resize((224,224)),\n",
    "    transforms.RandomHorizontalFlip(),\n",
    "    transforms.RandomRotation(degrees=10),\n",
    "    transforms.ToTensor(),\n",
    "    normalize,\n",
    "])\n"
   ]
  },
  {
   "cell_type": "code",
   "execution_count": 43,
   "metadata": {},
   "outputs": [
    {
     "name": "stderr",
     "output_type": "stream",
     "text": [
      "Clipping input data to the valid range for imshow with RGB data ([0..1] for floats or [0..255] for integers).\n"
     ]
    },
    {
     "name": "stdout",
     "output_type": "stream",
     "text": [
      "classes : children_playing\n"
     ]
    },
    {
     "data": {
      "text/plain": [
       "torch.Size([3, 224, 224])"
      ]
     },
     "execution_count": 43,
     "metadata": {},
     "output_type": "execute_result"
    },
    {
     "data": {
      "image/png": "[encoded data removed]",
      "text/plain": [
       "<Figure size 432x288 with 1 Axes>"
      ]
     },
     "metadata": {
      "needs_background": "light"
     },
     "output_type": "display_data"
    }
   ],
   "source": [
    "train_dataset = UrbanSound8kDataset(root = '/data/UrbanSound8K/audio',\n",
    "                              csv_file = '/data/UrbanSound8K/metadata/UrbanSound8K.csv',\n",
    "                              mode='train',\n",
    "                              transform=train_tmft)\n",
    "image, classes = train_dataset[1]\n",
    "print(f'classes : {train_dataset.idx_to_class()[classes]}')\n",
    "plt.imshow(image.permute(1,2,0), cmap='hot')\n",
    "image.shape"
   ]
  },
  {
   "cell_type": "code",
   "execution_count": 46,
   "metadata": {},
   "outputs": [
    {
     "name": "stderr",
     "output_type": "stream",
     "text": [
      "Clipping input data to the valid range for imshow with RGB data ([0..1] for floats or [0..255] for integers).\n"
     ]
    },
    {
     "name": "stdout",
     "output_type": "stream",
     "text": [
      "classes : car_horn\n"
     ]
    },
    {
     "data": {
      "text/plain": [
       "torch.Size([3, 224, 224])"
      ]
     },
     "execution_count": 46,
     "metadata": {},
     "output_type": "execute_result"
    },
    {
     "data": {
      "image/png": "[encoded data removed]",
      "text/plain": [
       "<Figure size 432x288 with 1 Axes>"
      ]
     },
     "metadata": {
      "needs_background": "light"
     },
     "output_type": "display_data"
    }
   ],
   "source": [
    "valid_tmft = transforms.Compose([\n",
    "    NumpyToPIL(),\n",
    "    transforms.Resize(256),\n",
    "    transforms.CenterCrop(224),\n",
    "    transforms.ToTensor(),\n",
    "    normalize,\n",
    "])\n",
    "\n",
    "valid_dataset = UrbanSound8kDataset(root = '/data/UrbanSound8K/audio',\n",
    "                              csv_file = '/data/UrbanSound8K/metadata/UrbanSound8K.csv',\n",
    "                              mode='valid',\n",
    "                              transform=valid_tmft)\n",
    "# valid_dataset.valid_df\n",
    "image, classes = valid_dataset[0]\n",
    "print(f'classes : {valid_dataset.idx_to_class()[classes]}')\n",
    "plt.imshow(image.permute(1,2,0), cmap='hot')\n",
    "image.shape"
   ]
  },
  {
   "cell_type": "code",
   "execution_count": 45,
   "metadata": {},
   "outputs": [
    {
     "ename": "NameError",
     "evalue": "name 'df' is not defined",
     "output_type": "error",
     "traceback": [
      "\u001b[0;31m---------------------------------------------------------------------------\u001b[0m",
      "\u001b[0;31mNameError\u001b[0m                                 Traceback (most recent call last)",
      "\u001b[0;32m<ipython-input-45-465540620815>\u001b[0m in \u001b[0;36m<module>\u001b[0;34m\u001b[0m\n\u001b[0;32m----> 1\u001b[0;31m \u001b[0mdf\u001b[0m\u001b[0;34m[\u001b[0m\u001b[0mnp\u001b[0m\u001b[0;34m.\u001b[0m\u001b[0mlogical_and\u001b[0m\u001b[0;34m(\u001b[0m\u001b[0mdf\u001b[0m\u001b[0;34m[\u001b[0m\u001b[0;34m'fold'\u001b[0m\u001b[0;34m]\u001b[0m \u001b[0;34m>=\u001b[0m \u001b[0;36m1\u001b[0m\u001b[0;34m,\u001b[0m\u001b[0mdf\u001b[0m\u001b[0;34m[\u001b[0m\u001b[0;34m'fold'\u001b[0m\u001b[0;34m]\u001b[0m \u001b[0;34m<=\u001b[0m \u001b[0;36m8\u001b[0m\u001b[0;34m)\u001b[0m\u001b[0;34m]\u001b[0m\u001b[0;34m\u001b[0m\u001b[0;34m\u001b[0m\u001b[0m\n\u001b[0m",
      "\u001b[0;31mNameError\u001b[0m: name 'df' is not defined"
     ]
    }
   ],
   "source": [
    "df[np.logical_and(df['fold'] >= 1,df['fold'] <= 8)]"
   ]
  },
  {
   "cell_type": "code",
   "execution_count": null,
   "metadata": {},
   "outputs": [],
   "source": []
  }
 ],
 "metadata": {
  "kernelspec": {
   "display_name": "Python 3",
   "language": "python",
   "name": "python3"
  },
  "language_info": {
   "codemirror_mode": {
    "name": "ipython",
    "version": 3
   },
   "file_extension": ".py",
   "mimetype": "text/x-python",
   "name": "python",
   "nbconvert_exporter": "python",
   "pygments_lexer": "ipython3",
   "version": "3.6.8"
  }
 },
 "nbformat": 4,
 "nbformat_minor": 4
}
